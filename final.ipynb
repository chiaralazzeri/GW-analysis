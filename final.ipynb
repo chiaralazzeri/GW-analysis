{
  "nbformat": 4,
  "nbformat_minor": 0,
  "metadata": {
    "colab": {
      "name": "final.ipynb",
      "provenance": [],
      "collapsed_sections": []
    },
    "kernelspec": {
      "name": "python3",
      "display_name": "Python 3"
    },
    "accelerator": "GPU"
  },
  "cells": [
    {
      "cell_type": "markdown",
      "metadata": {
        "id": "czdc5icpWhU9",
        "colab_type": "text"
      },
      "source": [
        "# Using Recurrent Neural Networks for gravitational waves detection  \n",
        "\n",
        "The aim of this project was to construct a recurrent neural network (RNN) to analyse waveforms and they contain a gravitational wave signal or just noise."
      ]
    },
    {
      "cell_type": "code",
      "metadata": {
        "id": "6y38z7jjzYkH",
        "colab_type": "code",
        "colab": {
          "base_uri": "https://localhost:8080/",
          "height": 154
        },
        "outputId": "f43df907-e80d-44ea-b4ff-22d4aaa368a1"
      },
      "source": [
        "# import the necessary packages\n",
        "\n",
        "!pip3 install torch torchvision\n",
        "import torch\n",
        "import torch.nn as nn\n",
        "import torch.nn.functional as F\n",
        "import torchvision \n",
        "from torch.utils.data import TensorDataset, DataLoader\n",
        "\n",
        "import os\n",
        "import h5py \n",
        "import numpy as np\n",
        "import seaborn as sns # for confusion matrix\n",
        "sns.set()\n",
        "from sklearn import metrics # for ROC curve and confusion matrix\n",
        "import matplotlib.pyplot as plt"
      ],
      "execution_count": 2,
      "outputs": [
        {
          "output_type": "stream",
          "text": [
            "Requirement already satisfied: torch in /usr/local/lib/python3.6/dist-packages (1.6.0+cu101)\n",
            "Requirement already satisfied: torchvision in /usr/local/lib/python3.6/dist-packages (0.7.0+cu101)\n",
            "Requirement already satisfied: future in /usr/local/lib/python3.6/dist-packages (from torch) (0.16.0)\n",
            "Requirement already satisfied: numpy in /usr/local/lib/python3.6/dist-packages (from torch) (1.18.5)\n",
            "Requirement already satisfied: pillow>=4.1.1 in /usr/local/lib/python3.6/dist-packages (from torchvision) (7.0.0)\n"
          ],
          "name": "stdout"
        },
        {
          "output_type": "stream",
          "text": [
            "/usr/local/lib/python3.6/dist-packages/statsmodels/tools/_testing.py:19: FutureWarning: pandas.util.testing is deprecated. Use the functions in the public API at pandas.testing instead.\n",
            "  import pandas.util.testing as tm\n"
          ],
          "name": "stderr"
        }
      ]
    },
    {
      "cell_type": "code",
      "metadata": {
        "id": "vOf1jbYZB-4M",
        "colab_type": "code",
        "colab": {}
      },
      "source": [
        "def fetch_data(url, filename):   # define function to fetch the data from a give url.\n",
        "    \"\"\"Fetch data from a url and save it to given file\"\"\"\n",
        "    import urllib\n",
        "    urllib.request.urlretrieve(url, filename=filename)\n",
        "\n",
        "# url of the data\n",
        "data_url = 'http://www.astro.gla.ac.uk/users/michael/datasets/new_bbh/BBH_data_1s_1024Hz_100Ksamp_1n_H1_astro_2z_8min_SNRuniform_8_8.h5' # training and validation data\n",
        "data_url_test = 'http://www.astro.gla.ac.uk/users/michael/datasets/new_bbh/without_noise/BBH_data_1s_1024Hz_20Ksamp_1n_H1_astro_2z_8min_SNRuniform_8_8.h5' # testing data\n",
        "\n",
        "\n",
        "# path to save the data\n",
        "data_file = './data.h5'\n",
        "\n",
        "# only download the data if the file doesn't already exist\n",
        "if not os.path.isfile(data_file):\n",
        "  fetch_data(data_url, data_file)\n",
        "\n",
        "data_file_test = './data_test.h5'\n",
        "if not os.path.isfile(data_file_test):\n",
        "  fetch_data(data_url_test, data_file_test)"
      ],
      "execution_count": 3,
      "outputs": []
    },
    {
      "cell_type": "markdown",
      "metadata": {
        "id": "Kl69_3LzYDa-",
        "colab_type": "text"
      },
      "source": [
        "The imported data has shape [100000,1,1024] i.e. [number of waveforms, number of detectors, ] . It has to be reshaped into a tensor of the form [number of waveforms, number of detectors, number of time steps, number of inputs]. For now we'll use [100000,1,1024,1]. Each waveform has an associated label, 0 or 1, which correspond to noise and noise + signal."
      ]
    },
    {
      "cell_type": "code",
      "metadata": {
        "id": "ip-L8E1QJnpn",
        "colab_type": "code",
        "colab": {}
      },
      "source": [
        "# define function to load the training and loading data:\n",
        "\n",
        "def load_data(data_file):\n",
        "    \"\"\"Load the data and remove the first and last 0.5 seconds of padding\"\"\"\n",
        "    # load the hdf5 datafile\n",
        "    dataset = h5py.File(data_file, 'r')\n",
        "    print(f'Dataset keys: {list(dataset.keys())}')    \n",
        "    x = dataset.file['time_series'][:]\n",
        "    y = dataset.file['labels'][:]\n",
        "\n",
        "    #turn data arrays into tensors\n",
        "    dataT = torch.from_numpy(x)\n",
        "    y = torch.from_numpy(y)\n",
        "    print(f'x shape: {dataT.shape}, y shape: {y.shape}')\n",
        "\n",
        "    # here a dimension is added (for inputs) by reshaping the tensor\n",
        "    data = torch.reshape(dataT,(100000,1,1024,1))\n",
        "\n",
        "    return data, y\n",
        "\n",
        "# a different function is used to load the testing data, as it also contains the noiseless signals\n",
        "\n",
        "def load_data_test(data_file_test):\n",
        "    \"\"\"Load the data and remove the first and last 0.5 seconds of padding\"\"\" # we only want one second of data\n",
        "    # load the hdf5 datafile\n",
        "    dataset = h5py.File(data_file_test, 'r')\n",
        "    print(f'Dataset keys: {list(dataset.keys())}')    \n",
        "    x = dataset.file['time_series'][:]  # waveform of signal + noise\n",
        "    y = dataset.file['labels'][:]  \n",
        "    z = dataset.file['time_series_zero_noise'][:] # just signal, no noise\n",
        "\n",
        "    #turn data arrays into tensors\n",
        "    dataT = torch.from_numpy(x)\n",
        "    y = torch.from_numpy(y)\n",
        "    dataT_0 = torch.from_numpy(z)\n",
        "    print(f'x shape: {dataT.shape}, y shape: {y.shape}, z shape: {dataT_0.shape}')\n",
        "\n",
        "    # here a dimension is added (for inputs) by reshaping the tensor\n",
        "    data = torch.reshape(dataT,(20000,1,1024,1))\n",
        "    data_0 = torch.reshape(dataT_0,(20000,1,1024,1))\n",
        "\n",
        "    # load parameters\n",
        "    print(f\"Parameters in the dataset: {list(dataset['parameters'].keys())}\")\n",
        "    m1 = dataset.file['parameters/m1'][:]\n",
        "    m2 = dataset.file['parameters/m2'][:]\n",
        "    mc = dataset.file['parameters/mc'][:]\n",
        "\n",
        "    return data, y, data_0"
      ],
      "execution_count": 4,
      "outputs": []
    },
    {
      "cell_type": "code",
      "metadata": {
        "id": "zPqWDvHmCReC",
        "colab_type": "code",
        "colab": {
          "base_uri": "https://localhost:8080/",
          "height": 50
        },
        "outputId": "9a9fb3fe-61b3-4a58-b5d1-4876dcf03206"
      },
      "source": [
        "data, labels = load_data(data_file) "
      ],
      "execution_count": 5,
      "outputs": [
        {
          "output_type": "stream",
          "text": [
            "Dataset keys: ['labels', 'parameters', 'time_series']\n",
            "x shape: torch.Size([100000, 1, 1024]), y shape: torch.Size([100000])\n"
          ],
          "name": "stdout"
        }
      ]
    },
    {
      "cell_type": "code",
      "metadata": {
        "id": "npIckOn6zmlw",
        "colab_type": "code",
        "colab": {
          "base_uri": "https://localhost:8080/",
          "height": 67
        },
        "outputId": "15a4786c-8f55-45f3-c6c8-fa9a21b847d1"
      },
      "source": [
        "data_test, labels_test, data0_test = load_data_test(data_file_test)"
      ],
      "execution_count": 6,
      "outputs": [
        {
          "output_type": "stream",
          "text": [
            "Dataset keys: ['labels', 'parameters', 'time_series', 'time_series_zero_noise']\n",
            "x shape: torch.Size([20000, 1, 1024]), y shape: torch.Size([20000]), z shape: torch.Size([20000, 1, 1024])\n",
            "Parameters in the dataset: ['M', 'cosiota', 'dL', 'dec', 'dsnr', 'eta', 'fmin', 'idx', 'iota', 'm1', 'm2', 'mc', 'nsnr', 'phi', 'psi', 'ra', 'z']\n"
          ],
          "name": "stdout"
        }
      ]
    },
    {
      "cell_type": "markdown",
      "metadata": {
        "id": "Qck88w5QdADQ",
        "colab_type": "text"
      },
      "source": [
        "I chose to split each waveform is 32 blocks of 32 inputs each. Hence the network will have 32 timesteps and n_inputs = 32. 32x32 seems to be the optimal shape for analysing the data. Each waveform split this way can be imagined to be like an image with n_timesteps rows of pixels and n_inputs columns."
      ]
    },
    {
      "cell_type": "code",
      "metadata": {
        "id": "yWOhLbrl2DKC",
        "colab_type": "code",
        "colab": {
          "base_uri": "https://localhost:8080/",
          "height": 34
        },
        "outputId": "130832b8-8197-46bc-f4d5-91bf5228e9d1"
      },
      "source": [
        "N_STEPS = 32\n",
        "N_INPUTS = 32\n",
        "DATA = torch.reshape(data,(100000,1,N_STEPS,N_INPUTS))\n",
        "data_test = torch.reshape(data_test, (20000,1,N_STEPS,N_INPUTS) )\n",
        "data0_test = torch.reshape(data0_test, (20000,1,N_STEPS,N_INPUTS) )\n",
        "print(DATA.shape, data_test.shape)"
      ],
      "execution_count": 7,
      "outputs": [
        {
          "output_type": "stream",
          "text": [
            "torch.Size([100000, 1, 32, 32]) torch.Size([20000, 1, 32, 32])\n"
          ],
          "name": "stdout"
        }
      ]
    },
    {
      "cell_type": "code",
      "metadata": {
        "id": "2Rxiz1cD2trG",
        "colab_type": "code",
        "colab": {
          "base_uri": "https://localhost:8080/",
          "height": 34
        },
        "outputId": "c41aa5ae-ea25-4551-bea0-afd7365e152b"
      },
      "source": [
        "# The data from the first data file is split into a training and a validation set, and the same is done for the corresponding labels\n",
        "\n",
        "data_train, data_val= torch.split(DATA,(90000,10000),dim=0)\n",
        "labels_train,labels_val = torch.split(labels,(90000,10000),dim=0)\n",
        "print(data_train.shape, labels_val.shape)"
      ],
      "execution_count": 8,
      "outputs": [
        {
          "output_type": "stream",
          "text": [
            "torch.Size([90000, 1, 32, 32]) torch.Size([10000])\n"
          ],
          "name": "stdout"
        }
      ]
    },
    {
      "cell_type": "markdown",
      "metadata": {
        "id": "TYAPhnQKsGKe",
        "colab_type": "text"
      },
      "source": [
        "The inital data and the reshaped data can be plotted to see whether the reshaping was done correctly."
      ]
    },
    {
      "cell_type": "code",
      "metadata": {
        "id": "yhiMGJAJ3L51",
        "colab_type": "code",
        "colab": {
          "base_uri": "https://localhost:8080/",
          "height": 1000
        },
        "outputId": "eb07ef25-0112-47b9-c2f5-d855a0111b86"
      },
      "source": [
        "# PLOT ONE TIME SERIES\n",
        "plt.grid()\n",
        "fs = 1024                           # sampling frequency\n",
        "duration = 1\n",
        "t = np.arange(0, duration, 1. / fs) # array of time steps = 1/fs\n",
        "fig = plt.figure(figsize=(8,6))\n",
        "plt.plot(t, data[0,0,0:1024],color='g')\n",
        "print(data[0,0,0:N_INPUTS].shape)\n",
        "plt.xlabel(\"Time (s)\")\n",
        "plt.ylabel(\"Whitened strain\")\n",
        "\n",
        "plt.show()\n",
        "\n",
        "t2 = np.arange(0, duration/N_STEPS, 1. / fs)  # divided by 16 because there are 16 inputs in our time step\n",
        "fig = plt.figure(figsize=(8,6))\n",
        "plt.plot(t2, data_train[0,0,0])\n",
        "plt.xlabel(\"Time (s)\")\n",
        "plt.ylabel(\"Whitened strain\")\n",
        "\n",
        "plt.show()\n",
        "\n",
        "# plot data[0,0,0:N_INPUTS] & DATA[0,0,0] and observe that the graphs are the same i.e. the data has been split correctly"
      ],
      "execution_count": 12,
      "outputs": [
        {
          "output_type": "stream",
          "text": [
            "torch.Size([32, 1])\n"
          ],
          "name": "stdout"
        },
        {
          "output_type": "display_data",
          "data": {
            "image/png": "[encoded data removed]",
            "text/plain": [
              "<Figure size 432x288 with 1 Axes>"
            ]
          },
          "metadata": {
            "tags": []
          }
        },
        {
          "output_type": "display_data",
          "data": {
            "image/png": "[encoded data removed]",
            "text/plain": [
              "<Figure size 576x432 with 1 Axes>"
            ]
          },
          "metadata": {
            "tags": []
          }
        },
        {
          "output_type": "display_data",
          "data": {
            "image/png": "[encoded data removed]",
            "text/plain": [
              "<Figure size 576x432 with 1 Axes>"
            ]
          },
          "metadata": {
            "tags": []
          }
        }
      ]
    },
    {
      "cell_type": "markdown",
      "metadata": {
        "id": "dELHwLwzec2m",
        "colab_type": "text"
      },
      "source": [
        "The data is put into three Tensor Datasets for training, validation and testing."
      ]
    },
    {
      "cell_type": "code",
      "metadata": {
        "id": "ucop4FYn3fvV",
        "colab_type": "code",
        "colab": {}
      },
      "source": [
        "trainset = TensorDataset(data_train,labels_train)\n",
        "testset = TensorDataset(data_test, labels_test, data0_test)\n",
        "valset = TensorDataset(data_val,labels_val)\n",
        "\n",
        "BATCH_SIZE = 100\n",
        "\n",
        "my_trainloader = DataLoader(trainset, batch_size = BATCH_SIZE, shuffle=True)\n",
        "my_testloader = DataLoader(testset, batch_size = BATCH_SIZE, shuffle = False)\n",
        "my_validationloader = DataLoader(valset, batch_size= data_val.size(0), shuffle = True)"
      ],
      "execution_count": null,
      "outputs": []
    },
    {
      "cell_type": "markdown",
      "metadata": {
        "id": "5o47GxZ3fjyL",
        "colab_type": "text"
      },
      "source": [
        "The network developed during the project was modelled on a recurrent neural network used for image classification that could identify handwritten numbers in a picture (it can be found at https://medium.com/dair-ai/building-rnns-is-fun-with-pytorch-and-google-colab-3903ea9a3a79).\n",
        "My data consisted in 1s long waveforms with SNR8. These waveforms were either made up of signal + noise or just noise.\n",
        "In the image recognition network a single row of pixels was fed into the network at each time step. To mirror this,  So I split each waveform into blocks, as the image was split into rows.\n",
        "The waveforms, which were 1s long and had sampling frequency 1024 Hz, were split into 32 blocks: so what I had was 32 blocks, each containing 32 inputs, that were fed into the network  at different timesteps.\n"
      ]
    },
    {
      "cell_type": "code",
      "metadata": {
        "id": "qGNLDt4Q3s7w",
        "colab_type": "code",
        "colab": {}
      },
      "source": [
        "# parameters \n",
        "\n",
        "N_NEURONS = 32  \n",
        "N_OUTPUTS = 2 # two numbers (that summed should give 1) are given as output  \n",
        "N_EPHOCS = 8 # how many times should we let the network see the data during training\n",
        "N_LAYERS = 4 # how many stacked LSTMs we want"
      ],
      "execution_count": null,
      "outputs": []
    },
    {
      "cell_type": "code",
      "metadata": {
        "id": "kgzt_n9R3vsB",
        "colab_type": "code",
        "colab": {}
      },
      "source": [
        "class gwLSTM(nn.Module):\n",
        "  #declare a few variables with initialisation function:\n",
        "    def __init__(self, batch_size, n_inputs, n_neurons, n_outputs, num_layers):  #here\n",
        "        super(gwLSTM, self).__init__()\n",
        "        \n",
        "        self.batch_size = batch_size\n",
        "        self.n_inputs = n_inputs\n",
        "        self.n_neurons = n_neurons\n",
        "        self.n_outputs = n_outputs\n",
        "        self.num_layers = num_layers\n",
        "\n",
        "        # declare LSTM layer\n",
        "        self.lstm = nn.LSTM(self.n_inputs, self.n_neurons, self.num_layers, dropout= 0)\n",
        "        # declare fully-connected layer \n",
        "        self.FC = nn.Linear(self.n_neurons, self.n_outputs) #nn.linear Applies a linear transformation to the incoming data\n",
        "       \n",
        "    def init_hidden(self,): # returns initial hidden and cell states with zero values\n",
        "        return (torch.zeros(self.num_layers, self.batch_size, self.n_neurons),\n",
        "                torch.zeros(self.num_layers, self.batch_size, self.n_neurons))\n",
        "        \n",
        "    def forward(self, X): # X is our input data\n",
        "        # transforms X to dimensions: n_steps X batch_size X n_inputs\n",
        "        X = X.permute(1, 0, 2) \n",
        "        self.batch_size = X.size(1) # size of 2nd element of X\n",
        "        self.hidden = self.init_hidden()\n",
        "        \n",
        "        lstm_out, self.hidden = self.lstm(X,self.hidden)    \n",
        "\n",
        "        if self.training == False:\n",
        "          OUT = []\n",
        "          for i in range(0, X.size(0)):  #here\n",
        "           out = self.FC(lstm_out[i]) \n",
        "           out = out.view(-1, self.n_outputs)\n",
        "           out = torch.sigmoid(out)\n",
        "           OUT.append(out)\n",
        "          return  OUT  # batch_size X n_output\n",
        "        else:\n",
        "          out = self.FC(lstm_out[-1]) \n",
        "          out = out.view(-1, self.n_outputs)   # batch_size X n_output\n",
        "          out = torch.sigmoid(out)\n",
        "          return  out"
      ],
      "execution_count": null,
      "outputs": []
    },
    {
      "cell_type": "code",
      "metadata": {
        "id": "nAuWr1aK3z0Q",
        "colab_type": "code",
        "colab": {}
      },
      "source": [
        "#TEST MODEL\n",
        "\n",
        "dataiter = iter(my_trainloader)\n",
        "wave, labels = dataiter.next()\n",
        "#print(data.shape)\n",
        "model = gwLSTM(BATCH_SIZE, N_INPUTS, N_NEURONS, N_OUTPUTS, N_LAYERS)\n",
        "logits = model(wave.view(-1, N_STEPS,N_INPUTS).float()) # log probabilities of the model.\n",
        "\n",
        "#print(logits,torch.max(logits,1))#, torch.max(logits,1)[1])\n",
        "#corrects = (torch.max(logits, 1)[1].view(labels.size()).data == labels.data).sum()\n",
        "#print(corrects)\n",
        "\n",
        "print(f'len(logits): {len(logits)}, logits[0].shape: {logits[0].shape}') # should be N_STEPS and batch size x n_outputs"
      ],
      "execution_count": null,
      "outputs": []
    },
    {
      "cell_type": "markdown",
      "metadata": {
        "id": "zXE8fkuB35K2",
        "colab_type": "text"
      },
      "source": [
        "Logits gives an error if model() is not given a .float() input. Logits has shape (n_batches * n_outputs) just like in the original code."
      ]
    },
    {
      "cell_type": "code",
      "metadata": {
        "id": "alrAHw4636-6",
        "colab_type": "code",
        "colab": {}
      },
      "source": [
        "# DECLARE HELPER FUNCTIONS TO TEST THE MODEL\n",
        "\n",
        "import torch.optim as optim\n",
        "\n",
        "# Before training a model in PyTorch, you can programatically specify what device\n",
        "# you want to use during training; the torch.device function tells the program\n",
        "# that we want to use the GPU if one is available, otherwise the CPU will be the default.\n",
        "\n",
        "device = torch.device(\"cuda:0\" if torch.cuda.is_available() else \"cpu\")\n",
        "\n",
        "# Model instance: create an instance of the model, gwLSTM(), with the proper parameters.\n",
        "model = gwLSTM(BATCH_SIZE, N_INPUTS, N_NEURONS, N_OUTPUTS, N_LAYERS)   \n",
        "\n",
        "# it computes the loss of the model\n",
        "# Applies a log softmax followed by a negative log likelihood loss operation over the output of the model. \n",
        "# To compute the loss, the function needs both the log probabilities and targets (labels). \n",
        "criterion = nn.CrossEntropyLoss() \n",
        "\n",
        "# Need an optimization algorithm which helps to update weights based on the current loss.\n",
        "# Requires the model parameters and a learning rate. Alternatively, you can also use optim.SGD\n",
        "\n",
        "optimizer = torch.optim.Adam(model.parameters(), lr = 0.00005)\n",
        "print(model.parameters)\n",
        "\n",
        "# The get_accuracy function computes the accuracy of the model given the log probabilities and target values.\n",
        "def get_accuracy(logit, target, batch_size):\n",
        "    # Obtain accuracy for training round \n",
        "    corrects = (torch.max(logit, 1)[1].view(target.size()).data == target.data).sum() \n",
        "\n",
        "# logit is the output array. it has dimensions 50x2. for each of the 50 waveforms in the batch torch.max(input, dim) finds maximum between the 2 numbers.\n",
        "# torch.max(input, dim)[1] gives the index of the maximum i.e. 0 for noise 1 for signal.\n",
        "# corrects counts the number of times the result matches the target (min = 0, max = 50)\n",
        "\n",
        "    accuracy = 100.0 * corrects.item()/batch_size\n",
        "    return accuracy"
      ],
      "execution_count": null,
      "outputs": []
    },
    {
      "cell_type": "markdown",
      "metadata": {
        "id": "mTEdWqIIXtuy",
        "colab_type": "text"
      },
      "source": [
        "## STACKING LSTMs\n",
        "\n",
        "I initially worked with basic rnn cells (nn.RNN) but then I decided to make my network more complex by using LSTM cells. An LSTM cell has an additional long-term memory component that allows it to work better with long strings of data. As the input goes into the cell at each timestep, the hidden state (which is the short term memory component) and the cell state (the long term memory component) both go into the cell. Inside it, three gates help regulate the information that goes into the cell state.\n",
        "\n",
        "When I started testing the network on concatenated waveforms (see later) the network struggled to confidently detect the signals as the sequence of data it was analysing was much longer and it was probably forgetting what is has seen earlier. So I tried stacking more LSTMs to help improve the memory of the network. An LSTM layer gives the following layer a sequence output: one output per input time step. Initially, when more than 2 LSTMs were stacked the network stopped learning. I had to decrease the learning rate of the network from $ 1 \\cdot 10^{-4}$ to $ 5 \\cdot 10^{-5}$. The learning rate controls the rate at which the model learns: a smaller learning rate allowed the model to learn a more optimal set of weights but made the training session much longer. This allowed to stack 4 or 5 LSTMs.\n"
      ]
    },
    {
      "cell_type": "markdown",
      "metadata": {
        "id": "vQz3AiyK4Bgk",
        "colab_type": "text"
      },
      "source": [
        "## TRAINING THE MODEL\n",
        "\n",
        "The RNN can now be trained with the training data. After each epoch of training the validation data goes through the network. Both the training and validation loss and accuracy values are returned. These values should be approximately the same. \n",
        "\n",
        "Initially the training accuracy reached much higher values than the validation accuracy, which means that the network was overfitting. At the time I was training the network with 8k waveforms. To solve the overfitting problem I made the network (which was made up of a couple of basic RNN cells) more simple, so that it wouldn’t be able to memorise the waveforms, and I increased the number of training waveforms to 80k. \n",
        "At this point the network could detect signals with accuracy between 85-90%.\n"
      ]
    },
    {
      "cell_type": "code",
      "metadata": {
        "id": "HfNV4HyX4DH3",
        "colab_type": "code",
        "colab": {}
      },
      "source": [
        "# loop over the dataset multiple times\n",
        "# Epochs: number of times the network will train on the complete dataset.\n",
        "LOSS = []\n",
        "ACCURACY = []\n",
        "VAL_ACCURACY = []\n",
        "VAL_LOSS = []\n",
        "for epoch in range(N_EPHOCS):  \n",
        "    train_running_loss = 0.0\n",
        "    train_acc = 0.0\n",
        "    model.train()\n",
        "    \n",
        "    # TRAINING ROUND\n",
        "    for i, data in enumerate(my_trainloader): # restarts the trainloader iterator on each epoch. That is how python iterators work. \n",
        "        # zero the parameter gradients\n",
        "        optimizer.zero_grad()\n",
        "        \n",
        "        # reset hidden states\n",
        "        model.hidden = model.init_hidden() \n",
        "        \n",
        "        # get the inputs\n",
        "        inputs, labels = data\n",
        "        inputs = inputs.view(-1, N_STEPS, N_INPUTS).float() # this reshapes the input tensor to width & lenght 28\n",
        "\n",
        "        # forward + backward + optimize\n",
        "        outputs = model(inputs)\n",
        "\n",
        "        loss = criterion(outputs, labels) \n",
        "        loss.backward() # loss.backward() computes dloss/dx for every parameter x which has requires_grad=True. These are accumulated into x.grad for every parameter x. \n",
        "        optimizer.step() # optimizer.step updates the value of x using the gradient x.grad.\n",
        "\n",
        "        train_running_loss += loss.detach().item()\n",
        "        train_acc += get_accuracy(outputs, labels, BATCH_SIZE)\n",
        "        \n",
        "            \n",
        "    model.eval() # switch for some specific layers/parts of the model that behave differently during training and inference (evaluating) time.\n",
        "    LOSS.append(train_running_loss/i)\n",
        "    ACCURACY.append(train_acc/i)   \n",
        "\n",
        "    print('Epoch:  %d | Loss: %.4f | Train Accuracy: %.2f' \n",
        "          %(epoch, train_running_loss / i, train_acc/i)) \n",
        "\n",
        "#VALIDATION DATASET\n",
        "    val_loss = 0\n",
        "    val_acc = 0.0\n",
        "    for i, data in enumerate(my_validationloader):\n",
        "       with torch.no_grad(): \n",
        "        inputs, labels = data\n",
        "        inputs = inputs.view(-1, N_STEPS, N_INPUTS).float() \n",
        "\n",
        "        val_outputs = model(inputs)\n",
        "\n",
        "        loss_v = criterion(val_outputs[-1], labels)\n",
        "        val_loss += loss_v.detach().item()\n",
        "        val_acc += get_accuracy(val_outputs[-1], labels, data_val.size(0))\n",
        "\n",
        "\n",
        "    VAL_ACCURACY.append(val_acc)   \n",
        "    VAL_LOSS.append(val_loss)  \n",
        "    print(' Validation Loss: %.4f | Validation Accuracy: %.2f' \n",
        "          %(val_loss, val_acc)) "
      ],
      "execution_count": null,
      "outputs": []
    },
    {
      "cell_type": "markdown",
      "metadata": {
        "id": "fFEpjReq4qba",
        "colab_type": "text"
      },
      "source": [
        "## TRAINING VS. VALIDATION  \n",
        "The validation and training loss and accuracy values should be close.\n",
        "Initially, when the training was done on 9k waveforms, the validation accuracy was much lower than training accuracy, which means that the network was overfitting. This happens when the network memorises the training waveforms instead of learning. This can be prevented by making the network less complex (adding dropout or decreasing the number of layers) or using more data. Using 90k training waveforms solved the overfitting problem."
      ]
    },
    {
      "cell_type": "code",
      "metadata": {
        "id": "8nE3sOVH4H89",
        "colab_type": "code",
        "colab": {}
      },
      "source": [
        "# Plot validation Loss/Accuracy against training Loss/Accuracy\n",
        "epochs = np.arange(1, N_EPHOCS + 1)\n",
        "plt.figure(figsize=[20,6])\n",
        "plt.subplot(1,2,1)\n",
        "plt.title('LOSS per EPOCH')\n",
        "plt.xticks(range(0, N_EPHOCS+1))\n",
        "plt.yticks(np.arange(0,N_EPHOCS,0.1))\n",
        "plt.xlim(0, N_EPHOCS+1)\n",
        "plt.ylim(0, 1.05)\n",
        "plt.plot(epochs,LOSS,color= 'g', label= 'training loss')\n",
        "plt.plot(epochs,VAL_LOSS, color='b', label= 'validation loss')\n",
        "plt.legend()\n",
        "\n",
        "plt.subplot(1,2,2)\n",
        "plt.title('ACCURACY per EPOCH')\n",
        "plt.xticks(range(0, N_EPHOCS+1))\n",
        "plt.yticks(np.arange(0,105,10))\n",
        "plt.xlim(0, N_EPHOCS+1)\n",
        "plt.ylim(40, 101)\n",
        "plt.plot(epochs,ACCURACY, color='m',label= 'training accuracy')\n",
        "plt.plot(epochs,VAL_ACCURACY, color='y', label= 'validation accuracy')\n",
        "plt.legend()\n",
        "plt.show()"
      ],
      "execution_count": null,
      "outputs": []
    },
    {
      "cell_type": "markdown",
      "metadata": {
        "id": "TGqc02_B4gtQ",
        "colab_type": "text"
      },
      "source": [
        "##TESTING  \n",
        "During the testing the network analyses data it hasn't seen before."
      ]
    },
    {
      "cell_type": "code",
      "metadata": {
        "id": "a1F1B3UW4Zbi",
        "colab_type": "code",
        "colab": {}
      },
      "source": [
        "# compute accuracy on the testing dataset to test how well the model performs. (20 BATCHES)\n",
        "\n",
        "test_acc = 0.0\n",
        "\n",
        "P_n = [] # probability of just noise for all batches at all timesteps\n",
        "P_s = [] # probability of detection for all batches at all timesteps\n",
        "labels_t = []  # labels for every waveform (10000 labels)\n",
        "inputs_test = [] # test waveforms\n",
        "inputs0_test = [] # test waveforms with no signal\n",
        "\n",
        "for i, data in enumerate(my_testloader,0):\n",
        "    \n",
        "    inputsT, labelsT, inputs0T = data\n",
        "    inputsT = inputsT.view(-1, N_STEPS, N_INPUTS).float()\n",
        "\n",
        "    outputs = model(inputsT)\n",
        "    test_acc += get_accuracy(outputs[-1], labelsT, BATCH_SIZE)\n",
        "    \n",
        "    p_n = []  # noise prob for ith batch at all time steps\n",
        "    p_s = []\n",
        "    for j in range(0,N_STEPS):\n",
        "      pn = []  # noise prob for ith batch and jth time step\n",
        "      ps = []\n",
        "      for k in range(0, BATCH_SIZE):\n",
        "        outputs[j] = outputs[j].detach()  # so that grad <backwards> isn't printed\n",
        "        n = outputs[j][k][0].item() # gets noise probability\n",
        "        s = outputs[j][k][1].item() # gets signal probability\n",
        "        pn.append(n)  \n",
        "        ps.append(s)   \n",
        "      p_n.append(pn)\n",
        "      p_s.append(ps)\n",
        "    P_n.append(p_n)\n",
        "    P_s.append(p_s) \n",
        "    labels_t.append(labelsT.tolist()) \n",
        "    inputs_test.append(inputsT)\n",
        "    inputs0_test.append(inputs0T.view(-1, N_STEPS, N_INPUTS))\n",
        "print('Test Accuracy: %.2f' %(test_acc/(data_test.size(0)/BATCH_SIZE)))  #average test accuracy (num. correct guesses/number of batches)\n",
        "\n",
        "\n",
        "print(len(P_s), len(P_s[0]),len(P_s[0][0]))\n",
        "print(len(labels_t), len(labels_t[0]))\n",
        "print(len(inputs_test),len(inputs_test[0]))\n",
        "#P_s should have length (n_waveforms/batchsize) and each of its elements (a batch) should have length 32 (timesteps) and each timestep should have 50 elements (batch size)"
      ],
      "execution_count": null,
      "outputs": []
    },
    {
      "cell_type": "code",
      "metadata": {
        "id": "efOUxPCz1TI6",
        "colab_type": "code",
        "colab": {}
      },
      "source": [
        "# divide all signals and noise inputs into different arrays so that they're more easily plotted\n",
        "\n",
        "noise = []  \n",
        "signals = []\n",
        "signals0 = []\n",
        "stat_n = []\n",
        "stat_s = []\n",
        "noise0 = []\n",
        "\n",
        "for i in range(0, data_test.size(0)//BATCH_SIZE,1):\n",
        "  l = labels_t[i]\n",
        "  for j in range(0,BATCH_SIZE,1):\n",
        "    if l[j] == 1: # if waveform is a signal\n",
        "      signals.append(inputs_test[i][j])  # add stats at each time step to signal list\n",
        "      signals0.append(inputs0_test[i][j])\n",
        "      s_s = []\n",
        "      for k in range(0,N_STEPS,1):\n",
        "        s_s.append(P_s[i][k][j])\n",
        "      stat_s.append(s_s)\n",
        "    if l[j] == 0:\n",
        "      noise.append(inputs_test[i][j])\n",
        "      noise0.append(inputs0_test[i][j])\n",
        "      s_n = []\n",
        "      for k in range(0,N_STEPS,1):\n",
        "        s_n.append(P_s[i][k][j])\n",
        "      stat_n.append(s_n)\n",
        "\n",
        "print(len(noise0),len(signals0))"
      ],
      "execution_count": null,
      "outputs": []
    },
    {
      "cell_type": "code",
      "metadata": {
        "id": "BdHtz3mY9iZQ",
        "colab_type": "code",
        "colab": {}
      },
      "source": [
        "# Plot 5 waveforms with signal + noise and the respective statistics with respect to time\n",
        "\n",
        "threshold = 0.95\n",
        "t = np.arange(0, duration, 1. / fs) # array of time steps = 1/fs\n",
        "steps = np.arange(0,1,1/N_STEPS)\n",
        "\n",
        "A = [0,1,2,3,100,5,6,70,8,9]\n",
        "\n",
        "for a in A:\n",
        "\n",
        "  fig, ax = plt.subplots(figsize=[16,8])\n",
        "  plt.title(f'SIGNAL stats at each timestep for signal {a}')\n",
        "  idx1 = np.argwhere(np.diff(np.sign(np.array(stat_s[a]) - threshold))).flatten()\n",
        "\n",
        "  # statistics\n",
        "  ax.set_xticks(np.arange(0,1.1,0.1))\n",
        "  ax.plot(steps, stat_s[a], color='g', label='signal statistics')\n",
        "  ax.set_xlabel(r\"Time (s)\")\n",
        "  ax.set_ylabel(\"Detection probability\")\n",
        "  ax.set_xlim(0,1.05)\n",
        "  ax.set_yticks(np.arange(0,1.1,0.1))\n",
        "  ax.hlines(y = threshold, xmin=0, xmax=1.04, label = 'threshold', color = 'r')\n",
        "  ax.vlines(x = ((idx1*N_INPUTS)/fs), ymin=0, ymax= 1, color='k', label = 'detection')\n",
        "\n",
        "  # waveforms\n",
        "  ax2 = ax.twinx()\n",
        "  ax2.set_yticks(np.arange(-1,1.1,0.2))\n",
        "  ax2.set_ylabel(\"Strain\")\n",
        "  ax2.plot(t, (signals[a]/(torch.max(signals[a]))).view(-1,1024,1)[0,0:1024], label='waveform with noise')\n",
        "  ax2.plot(t, (signals0[a]/(torch.max(signals0[a]))).view(-1,1024,1)[0,0:1024], label= 'waveform without noise')\n",
        "\n",
        "  fig.legend(loc=(0.7,0.1))\n",
        "  plt.show()"
      ],
      "execution_count": null,
      "outputs": []
    },
    {
      "cell_type": "code",
      "metadata": {
        "id": "rmdZ5QFHztED",
        "colab_type": "code",
        "colab": {}
      },
      "source": [
        "# Plot 5 waveforms with only noise and the respective statistics with respect to time\n",
        "\n",
        "B = [0,1,2,3,4]\n",
        "threshold = 0.95\n",
        "\n",
        "for b in B:\n",
        "\n",
        "  fig, ax = plt.subplots(figsize=[16,8])\n",
        "  plt.title(f'NOISE stats at each timestep for signal {b}')\n",
        "  idx1 = np.argwhere(np.diff(np.sign(np.array(stat_n[b]) - threshold))).flatten()\n",
        "\n",
        "  # statistics\n",
        "  ax.set_xticks(np.arange(0,1.1,0.1))\n",
        "  ax.plot(steps, stat_n[b], color='g', label='signal statistics')\n",
        "  ax.set_xlabel(\"Time (s)\")\n",
        "  ax.set_ylabel(\"Detection Probability\")\n",
        "  ax.set_xlim(0,1.05)\n",
        "  ax.set_yticks(np.arange(0,1.1,0.1))\n",
        "  ax.hlines(y = threshold, xmin=0, xmax=1.04, label = 'threshold', color = 'r')\n",
        "  #ax.vlines(x = ((idx1*N_INPUTS)/fs), ymin=-1, ymax= 1, color='k', label = 'detection')\n",
        "\n",
        "  # waveforms\n",
        "  ax2 = ax.twinx()\n",
        "  ax2.set_yticks(np.arange(-1,1.1,0.2))\n",
        "  ax2.set_ylabel(\"Strain\")\n",
        "  ax2.plot(t, (noise[b]/(torch.max(noise[b]))).view(-1,1024,1)[0,0:1024], label='waveform with noise')\n",
        "  ax2.plot(t, (noise0[b]).view(-1,1024,1)[0,0:1024], label= 'waveform without noise')\n",
        "\n",
        "  fig.legend(loc=(0.7,0.1))\n",
        "  plt.show()"
      ],
      "execution_count": null,
      "outputs": []
    },
    {
      "cell_type": "markdown",
      "metadata": {
        "id": "Ork-tRvww58b",
        "colab_type": "text"
      },
      "source": [
        "# PERFORMANCE EVALUATION\n",
        "\n",
        "With the following code I wanted to evaluate the diagnostic ability of the network. I did this by plotting a confusion matrix with a threshold for detection equal to 90% and a Receiver Operating Characteristic curve, which shows the goodness of the network as the detection threshold is varied.\n"
      ]
    },
    {
      "cell_type": "markdown",
      "metadata": {
        "id": "ASrBAK-M2mRH",
        "colab_type": "text"
      },
      "source": [
        "The confusion matrix below was plotted using the true labels associated to the waveforms and the predictions of the network. A threshold of 0.9 was chosen: if the signal statistic fails to reach this threshold the waveform will be considered to be made up of just noise, even if probabilty of detection > 0.5. \n"
      ]
    },
    {
      "cell_type": "code",
      "metadata": {
        "id": "NIDNh941Nkvv",
        "colab_type": "code",
        "colab": {}
      },
      "source": [
        "# CONFUSION MATRIX\n",
        "\n",
        "labels_t = np.array(labels_t)\n",
        "\n",
        "predictions = []\n",
        "for i in range(0,data_test.size(0)//BATCH_SIZE):\n",
        "  out_t = P_s[i][-1]\n",
        "  pred = []\n",
        "  for j in range(0, BATCH_SIZE):\n",
        "    out = out_t[j]\n",
        "    if out < 0.9:   # the threshold is set to be 0.9\n",
        "      pred.append(0)\n",
        "    else:\n",
        "      pred.append(1)\n",
        "  predictions.append(pred)\n",
        "\n",
        "predictions = np.array(predictions)\n",
        "\n",
        "#print(len(predictions))\n",
        "#print(len(labels_t))"
      ],
      "execution_count": null,
      "outputs": []
    },
    {
      "cell_type": "code",
      "metadata": {
        "id": "ctjkwjb23Uvz",
        "colab_type": "code",
        "colab": {}
      },
      "source": [
        "cm = metrics.confusion_matrix(labels_t.flatten(), predictions.flatten())\n",
        "\n",
        "fig = plt.figure(figsize=(12, 7))\n",
        "sns.heatmap(cm, annot=True, square=True, fmt='g', cmap=\"YlGnBu\",\n",
        "            xticklabels=['Noise', 'Signal'], yticklabels=['Noise', 'Signal'])\n",
        "plt.xlabel(\"Predicted label\")\n",
        "plt.ylabel(\"True label\")\n",
        "plt.show()"
      ],
      "execution_count": null,
      "outputs": []
    },
    {
      "cell_type": "markdown",
      "metadata": {
        "id": "PU6wnutzr5vo",
        "colab_type": "text"
      },
      "source": [
        "Reciever operator characteristic curves help determining how well the network performs. It's a plot of the true positive rate (probability of detection) against the false positive rate (probabilty of false alarm) as the detection threshold is changes."
      ]
    },
    {
      "cell_type": "code",
      "metadata": {
        "id": "z_AAE8hMw4VI",
        "colab_type": "code",
        "colab": {}
      },
      "source": [
        "outputs_roc = []\n",
        "for i in range(0,data_test.size(0)//BATCH_SIZE):\n",
        "  P_roc = P_s[i][-1]   # we want the signal output (hence we use P_s) for each of waveform at the last timestep\n",
        "  outputs_roc.append(P_roc)\n",
        "\n",
        "outputs_roc = np.array(outputs_roc)\n",
        "\n",
        "\n",
        "print(f'outputs[-1].shape: {outputs[-1].shape}, outputs_roc.shape: {outputs_roc.shape},  labels_test.shape: {labels_t.shape}' )\n",
        "\n",
        "\n",
        "P_false, P_true, threshold = metrics.roc_curve(labels_t.flatten(), outputs_roc.flatten())\n",
        "\n",
        "fig = plt.figure(figsize=(16,8))\n",
        "plt.subplot(1,2,1)\n",
        "plt.plot(P_false, P_true, color = 'g', label = 'model')\n",
        "plt.plot(np.arange(-0.01,1.05,0.1),np.arange(-0.01,1.05,0.1),'y', label = 'random')\n",
        "plt.xlabel('False alarm probability')\n",
        "plt.ylabel('True alarm probability')\n",
        "plt.title('ROC Curve')\n",
        "plt.legend()\n",
        "print(f'thresholds: {threshold}')\n",
        "\n",
        "from matplotlib import pyplot\n",
        "plt.subplot(1,2,2)\n",
        "\n",
        "plt.plot(P_false, P_true, color = 'g', label = 'model')\n",
        "plt.plot(np.arange(-0.01,1.05,0.1),np.arange(-0.01,1.05,0.1),'y', label = 'random')\n",
        "pyplot.xscale('log')\n",
        "plt.xlabel('log False alarm probability')\n",
        "plt.ylabel('True alarm probability')\n",
        "plt.title('ROC Curve')\n",
        "plt.legend()\n",
        "plt.show()"
      ],
      "execution_count": null,
      "outputs": []
    },
    {
      "cell_type": "markdown",
      "metadata": {
        "id": "9PzKUM4wZRiw",
        "colab_type": "text"
      },
      "source": [
        "# CONCATENATING WAVEFORMS\n",
        "\n",
        "A deep network used for gravitational waves detection should be able to analyse waveforms that are much longer than 1s. \n",
        "So, once the network gave satisfying results with 1 s long waveforms I tried to analyse of longer sequences of data, containing both a signal with noise and just noise. To do this, I concatenated 4 waveforms of just noise with a waveform of noise & signal, obtaining 5s long waveforms.  \n",
        "\n",
        "Even though the network has been trained to anaylise 1s long waveforms, we can test it on longer waveforms by keeping the number of inputs the same but increasing the number of timesteps."
      ]
    },
    {
      "cell_type": "code",
      "metadata": {
        "id": "2yz7Ww198CvH",
        "colab_type": "code",
        "colab": {}
      },
      "source": [
        "# CREATE CONCATENATED WAVEFORM WITH 4 NOISE WAVEFORMS AND ONE SIGNAL + NOISE WAVEFORM\n",
        "\n",
        "conc_signals = [] # for concatenated waveforms\n",
        "conc_signals0 = [] # for concatenated waveforms with no noise\n",
        "\n",
        "#print(inputs_test[0][0].shape)\n",
        "\n",
        "for i in range(0,300):\n",
        "  concatenated_waveform = torch.cat((noise[i].view(1,1024),noise[i+300].view(1,1024),signals[i].view(1,1024),noise[i+600].view(1,1024),noise[1+900].view(1,1024)), dim= 1)\n",
        "  conc_signals.append(concatenated_waveform)\n",
        "  concatenated_waveform0 = torch.cat((noise0[i].view(1,1024),noise0[i+300].view(1,1024),signals0[i].view(1,1024),noise0[i+600].view(1,1024),noise0[i+900].view(1,1024)), dim= 1)\n",
        "  conc_signals0.append(concatenated_waveform0)\n",
        "print(len(conc_signals), conc_signals[4].shape)\n",
        "\n",
        "conc_s_test = torch.stack((conc_signals[0:300]),dim=0)  # concatenated waveforms for testing\n",
        "conc_s_test0 = torch.stack((conc_signals0[0:300]),dim=0) # concatenated waveforms with no noise for testing\n",
        "\n",
        "conc_s_test = conc_s_test.view(-1,5*N_STEPS,N_INPUTS)\n",
        "conc_s_test0 = conc_s_test0.view(-1,5*N_STEPS,N_INPUTS)\n",
        "print(conc_s_test.shape)\n",
        "\n",
        "conc_labels1 = torch.ones(300,1) # labels for signal + noise\n",
        "conc_labels0 = torch.zeros(300,1) # labels for just noise\n",
        "\n",
        "# create tensor dataset for testing\n",
        "concset_s = TensorDataset(conc_s_test, conc_labels1, conc_labels0, conc_s_test0)  \n",
        "my_concloader_s = DataLoader(concset_s, batch_size= BATCH_SIZE, shuffle=False)"
      ],
      "execution_count": null,
      "outputs": []
    },
    {
      "cell_type": "code",
      "metadata": {
        "id": "zKTJEP5dlQMc",
        "colab_type": "code",
        "colab": {}
      },
      "source": [
        "conc_noise = []\n",
        "conc_noise0 = []\n",
        "for i in range(0,300):\n",
        "  concatenated_noise = torch.cat((noise[i+1200].view(1,1024),noise[i+1500].view(1,1024),noise[i+1800].view(1,1024),noise[i+2100].view(1,1024),noise[1+2400].view(1,1024)), dim= 1)\n",
        "  conc_noise.append(concatenated_noise)\n",
        "  concatenated_noise0 = torch.cat((noise0[i+1200].view(1,1024),noise0[i+1500].view(1,1024),noise0[i+1800].view(1,1024),noise0[i+2100].view(1,1024),noise0[1+2400].view(1,1024)), dim= 1)\n",
        "  conc_noise0.append(concatenated_noise0)\n",
        "\n",
        "conc_n_test = torch.stack((conc_noise[0:300]),dim=0)\n",
        "conc_n_test0 = torch.stack((conc_noise0[0:300]),dim=0)\n",
        "\n",
        "conc_n_test = conc_n_test.view(-1,5*N_STEPS,N_INPUTS)\n",
        "conc_n_test0 = conc_n_test0.view(-1,5*N_STEPS,N_INPUTS)\n",
        "\n",
        "concset_n = TensorDataset(conc_n_test, conc_labels1, conc_labels0, conc_n_test0)\n",
        "my_concloader_n = DataLoader(concset_n, batch_size= BATCH_SIZE, shuffle=False)"
      ],
      "execution_count": null,
      "outputs": []
    },
    {
      "cell_type": "code",
      "metadata": {
        "id": "N93kA6fZ6iKQ",
        "colab_type": "code",
        "colab": {}
      },
      "source": [
        "# PLOT A CONCATENATED WAVEFORM\n",
        "\n",
        "t_conc = np.arange(0, 5, 1. / fs)\n",
        "plt.figure(figsize=[20,8])\n",
        "plt.title('Concatenated waveforms')\n",
        "plt.plot(t_conc, conc_signals[4].view(-1,1024*5,1)[0,0:1024*5], label = 'signal + noise')\n",
        "plt.plot(t_conc, conc_signals0[7].view(-1,1024*5,1)[0,0:1024*5], label = 'signal')\n",
        "plt.xlim(-0.01, 5.01)\n",
        "plt.xlabel(\"Time (s)\")\n",
        "plt.ylabel(\"Whitened strain\")\n",
        "\n",
        "plt.legend()\n",
        "plt.show()"
      ],
      "execution_count": null,
      "outputs": []
    },
    {
      "cell_type": "markdown",
      "metadata": {
        "id": "9GB6zNfUQQ2h",
        "colab_type": "text"
      },
      "source": [
        "Test on concatenated waveforms : we can calculate accuracy after each fifth of the waveform (1s) has gone through the network."
      ]
    },
    {
      "cell_type": "code",
      "metadata": {
        "id": "NJXiUHI9Myow",
        "colab_type": "code",
        "colab": {}
      },
      "source": [
        "test_acc_c1 = 0.0\n",
        "test_acc_c2 = 0.0\n",
        "test_acc_c3 = 0.0\n",
        "test_acc_c4 = 0.0\n",
        "test_acc_c5 = 0.0\n",
        "\n",
        "# noise prob for all batches at all timesteps\n",
        "P_s_c = []\n",
        "S_inputs_test_conc = []\n",
        "S_inputs0_test_conc = []\n",
        "\n",
        "for i, data in enumerate(my_concloader_s,0):\n",
        "    \n",
        "    S_inputs_c, S_labels_c1, S_labels_c0, S_inputs0_c = data\n",
        "    S_inputs_c = S_inputs_c.view(-1, N_STEPS*5, N_INPUTS).float()\n",
        "\n",
        "    S_outputs_c = model(S_inputs_c)\n",
        "\n",
        "    test_acc_c1 += get_accuracy(S_outputs_c[31], S_labels_c0, BATCH_SIZE)  \n",
        "    test_acc_c2 += get_accuracy(S_outputs_c[63], S_labels_c0, BATCH_SIZE)\n",
        "    test_acc_c3 += get_accuracy(S_outputs_c[95], S_labels_c1, BATCH_SIZE)\n",
        "    test_acc_c4 += get_accuracy(S_outputs_c[127], S_labels_c0, BATCH_SIZE)\n",
        "    test_acc_c5 += get_accuracy(S_outputs_c[159], S_labels_c0, BATCH_SIZE)\n",
        "\n",
        "# noise prob for ith batch at all time steps\n",
        "    p_s_c = []\n",
        "    for j in range(0,N_STEPS*5):\n",
        "  # noise prob for ith batch and jth time step\n",
        "      ps_c = []\n",
        "      for k in range(0, BATCH_SIZE):\n",
        "        S_outputs_c[j] = S_outputs_c[j].detach()  # so that grad <backwards> isn't printed\n",
        "        n_c = S_outputs_c[j][k][0].item() # gets noise probability\n",
        "        s_c = S_outputs_c[j][k][1].item() # gets signal probability\n",
        "\n",
        "        ps_c.append(s_c)   \n",
        "\n",
        "      p_s_c.append(ps_c)\n",
        "\n",
        "    P_s_c.append(p_s_c)\n",
        "    S_inputs_test_conc.append(S_inputs_c)\n",
        "    S_inputs0_test_conc.append(S_inputs0_c)\n",
        "\n",
        "print('Test Accuracy1: %.2f, Test Accuracy2: %.2f, Test Accuracy3: %.2f, Test Accuracy4: %.2f, Test Accuracy5: %.2f' %(test_acc_c1/(conc_s_test.size(0)/BATCH_SIZE), test_acc_c2/(conc_s_test.size(0)/BATCH_SIZE), test_acc_c3/(conc_s_test.size(0)/BATCH_SIZE), test_acc_c4/(conc_s_test.size(0)/BATCH_SIZE), test_acc_c5/(conc_s_test.size(0)/BATCH_SIZE)))  #average test accuracy (num. correct guesses/number of batches)\n"
      ],
      "execution_count": null,
      "outputs": []
    },
    {
      "cell_type": "code",
      "metadata": {
        "id": "0a36PzxUITox",
        "colab_type": "code",
        "cellView": "code",
        "colab": {}
      },
      "source": [
        "# PLOT A FEW WAVEFORMS WITH THEIR CORRESPONDING DETECtION STATISTICS AGAINST TIME\n",
        "\n",
        "steps_conc = np.arange(0,5,1/N_STEPS)\n",
        "threshold = 0.95 \n",
        "\n",
        "#print(len(P_s_c),len(P_s_c[0]),len(P_s_c[0][0]))\n",
        "#print(len(S_inputs_test_conc),len(S_inputs_test_conc[0]),len(S_inputs_test_conc[0][0]))\n",
        "\n",
        "batch = 0\n",
        "\n",
        "Pc_s = []\n",
        "for c in range(0,BATCH_SIZE):\n",
        "  Prob_s = []\n",
        "  for i in range(0, 5*N_STEPS):\n",
        "    prob_s = P_s_c[batch][i][c]\n",
        "    Prob_s.append(prob_s)\n",
        "  Pc_s.append(Prob_s)\n",
        "print(len(Prob_s))\n",
        "\n",
        "# Prob_c has shape n_batches x n_timesteps x batch_size\n",
        "\n",
        "for c in range(0, BATCH_SIZE):\n",
        "\n",
        "  fig, ax = plt.subplots(figsize=[16,8])\n",
        "  #plt.title('stats at each timestep for concatenated waveforms')\n",
        "\n",
        "\n",
        "  \n",
        "\n",
        "  # waveforms\n",
        "  ax2 = ax.twinx()\n",
        "  ax2.set_yticks(np.arange(-1,1.2,0.2))\n",
        "  ax2.set_ylabel(\"Whitened train\",color='b')\n",
        "  ax2.plot(t_conc, (S_inputs_test_conc[batch][c]/torch.max(S_inputs_test_conc[batch][c])).view(-1,1024*5,1)[0,0:1024*5], label = 'signal + noise',zorder=1)\n",
        "  ax2.plot(t_conc, (S_inputs0_test_conc[batch][c]/torch.max(S_inputs0_test_conc[batch][c])).view(-1,1024*5,1)[0,0:1024*5], label = 'signal',zorder=2)\n",
        "  ax2.hlines(y = threshold, xmin=0, xmax=5, label = 'threshold', color = 'r')\n",
        "  idx = np.argwhere(np.diff(np.sign(np.array(Pc_s[c]) - threshold))).flatten()\n",
        "  #plt.vlines(x = ((idx*N_INPUTS*5)/fs), ymin=-1, ymax= 1, color='k', label = 'detection')\n",
        "  plt.vlines(x = 1, ymin=-1.1, ymax= 1.1, color = 'k',linestyles= 'dotted')\n",
        "  plt.vlines(x = 2, ymin=-1.1, ymax= 1.1, color = 'k', linestyles= 'dotted')\n",
        "  plt.vlines(x = 3, ymin=-1.1, ymax= 1.1, color = 'k', linestyles= 'dotted')\n",
        "  plt.vlines(x = 4, ymin=-1.1, ymax= 1.1, color = 'k', linestyles= 'dotted')\n",
        "  \n",
        "  # statistics\n",
        "  plt.xticks(np.arange(0,5,0.2))\n",
        "  plt.xlim(-0.1,5.1)\n",
        "  ax.set_xlabel(\"Time (s)\")\n",
        "  ax.set_ylabel(\"Probability of signal\",color='g')\n",
        "  ax.plot(steps_conc, Pc_s[c], label = 'signal statistics', color= 'g', zorder=8)\n",
        "\n",
        "  fig.legend(loc=(0.8,0.1))\n",
        "  plt.show()"
      ],
      "execution_count": null,
      "outputs": []
    },
    {
      "cell_type": "code",
      "metadata": {
        "id": "Q_Ige2O8PtNx",
        "colab_type": "code",
        "colab": {}
      },
      "source": [
        "test_acc_c1 = 0.0\n",
        "test_acc_c2 = 0.0\n",
        "test_acc_c3 = 0.0\n",
        "test_acc_c4 = 0.0\n",
        "test_acc_c5 = 0.0\n",
        "\n",
        "# noise prob for all batches at all timesteps\n",
        "P_n_c = []\n",
        "#labels_t_conc = []  # labels for every waveform (10000 labels)\n",
        "N_inputs_test_conc = []\n",
        "N_inputs0_test_conc = []\n",
        "\n",
        "for i, data in enumerate(my_concloader_n,0):\n",
        "    \n",
        "    N_inputs_c, N_labels_c1, N_labels_c0, N_inputs0_c = data\n",
        "    N_inputs_c = N_inputs_c.view(-1, N_STEPS*5, N_INPUTS).float()\n",
        "\n",
        "    N_outputs_c = model(N_inputs_c)\n",
        "    print(len(N_outputs_c), N_outputs_c[0].shape)\n",
        "\n",
        "    test_acc_c1 += get_accuracy(N_outputs_c[31], N_labels_c0, BATCH_SIZE)\n",
        "    test_acc_c2 += get_accuracy(N_outputs_c[63], N_labels_c0, BATCH_SIZE)\n",
        "    test_acc_c3 += get_accuracy(N_outputs_c[95], N_labels_c0, BATCH_SIZE)\n",
        "    test_acc_c4 += get_accuracy(N_outputs_c[127], N_labels_c0, BATCH_SIZE)\n",
        "    test_acc_c5 += get_accuracy(N_outputs_c[159], N_labels_c0, BATCH_SIZE)\n",
        "\n",
        "# noise prob for ith batch at all time steps\n",
        "    p_n_c = []\n",
        "    for j in range(0,N_STEPS*5):\n",
        "  # noise prob for ith batch and jth time step\n",
        "      pn_c = []\n",
        "      for k in range(0, BATCH_SIZE):\n",
        "        N_outputs_c[j] = N_outputs_c[j].detach()  # so that grad <backwards> isn't printed\n",
        "        n_c = N_outputs_c[j][k][0].item() # gets noise probability\n",
        "        s_c = N_outputs_c[j][k][1].item() # gets signal probability\n",
        "\n",
        "        pn_c.append(s_c)   \n",
        "\n",
        "      p_n_c.append(pn_c)\n",
        "\n",
        "    P_n_c.append(p_n_c)\n",
        "    #labels_t_conc.append(labels_c.tolist()) \n",
        "    N_inputs_test_conc.append(N_inputs_c)\n",
        "    N_inputs0_test_conc.append(N_inputs0_c)\n",
        "\n",
        "  \n",
        "print('Test Accuracy1: %.2f, Test Accuracy2: %.2f, Test Accuracy3: %.2f, Test Accuracy4: %.2f, Test Accuracy5: %.2f' %(test_acc_c1/(conc_n_test.size(0)/BATCH_SIZE), test_acc_c2/(conc_n_test.size(0)/BATCH_SIZE), test_acc_c3/(conc_n_test.size(0)/BATCH_SIZE), test_acc_c4/(conc_n_test.size(0)/BATCH_SIZE), test_acc_c5/(conc_n_test.size(0)/BATCH_SIZE)))  #average test accuracy (num. correct guesses/number of batches)"
      ],
      "execution_count": null,
      "outputs": []
    },
    {
      "cell_type": "code",
      "metadata": {
        "id": "DjNKOMqsYuA5",
        "colab_type": "code",
        "colab": {}
      },
      "source": [
        "steps_conc = np.arange(0,5,1/N_STEPS)\n",
        "threshold = 0.95\n",
        "\n",
        "print(len(P_s_c),len(P_s_c[0]),len(P_s_c[0][0]))\n",
        "print(len(S_inputs_test_conc),len(S_inputs_test_conc[0]),len(S_inputs_test_conc[0][0]))\n",
        "batch = 0\n",
        "\n",
        "Pc_n = []\n",
        "for c in range(0,BATCH_SIZE):\n",
        "  Prob_n = []\n",
        "  for i in range(0, 5*N_STEPS):\n",
        "    prob_n = P_n_c[batch][i][c]\n",
        "    Prob_n.append(prob_n)\n",
        "  Pc_n.append(Prob_n)\n",
        "print(len(Prob_n))\n",
        "\n",
        "# Prob_c has shape n_batches x n_timesteps x batch_size\n",
        "\n",
        "for c in range(0, BATCH_SIZE):\n",
        "\n",
        "  fig, ax = plt.subplots(figsize=[16,8])\n",
        "  #plt.title('stats at each timestep for concatenated waveforms')\n",
        "\n",
        "\n",
        "  ax2 = ax.twinx()\n",
        "  # waveforms\n",
        "  ax2.set_yticks(np.arange(-1,1.2,0.2))\n",
        "  ax2.set_ylabel(\"Whitened train\",color='b')\n",
        "  ax2.plot(t_conc, (N_inputs_test_conc[batch][c]/torch.max(N_inputs_test_conc[batch][c])).view(-1,1024*5,1)[0,0:1024*5], label = 'waveform with noise')\n",
        "  ax2.plot(t_conc, (N_inputs0_test_conc[batch][c]).view(-1,1024*5,1)[0,0:1024*5], label = 'waveform without noise')\n",
        "  ax2.hlines(y = threshold, xmin=0, xmax=5, label = 'threshold', color = 'r')\n",
        "  idx = np.argwhere(np.diff(np.sign(np.array(Pc_s[c]) - threshold))).flatten()\n",
        "  plt.vlines(x = 1, ymin=-1.1, ymax= 1.1, color = 'k',linestyles= 'dotted')\n",
        "  plt.vlines(x = 2, ymin=-1.1, ymax= 1.1, color = 'k', linestyles= 'dotted')\n",
        "  plt.vlines(x = 3, ymin=-1.1, ymax= 1.1, color = 'k', linestyles= 'dotted')\n",
        "  plt.vlines(x = 4, ymin=-1.1, ymax= 1.1, color = 'k', linestyles= 'dotted')\n",
        "\n",
        "  ax.legend()\n",
        "  # statistics\n",
        "  plt.xticks(np.arange(0,5,0.2))\n",
        "  plt.xlim(-0.1,5.1)\n",
        "  ax.set_xlabel(\"Time (s)\")\n",
        "  ax.set_ylabel(\"Probability of signal\",color='g')\n",
        "  ax.plot(steps_conc, Pc_n[c], color= 'g', label = 'signal statistics',zorder=8)\n",
        "\n",
        "  fig.legend(loc=(0.8,0.1))\n",
        "  plt.show()\n"
      ],
      "execution_count": null,
      "outputs": []
    },
    {
      "cell_type": "code",
      "metadata": {
        "id": "dJ-Y1JbgY-bL",
        "colab_type": "code",
        "colab": {}
      },
      "source": [
        ""
      ],
      "execution_count": null,
      "outputs": []
    }
  ]
}